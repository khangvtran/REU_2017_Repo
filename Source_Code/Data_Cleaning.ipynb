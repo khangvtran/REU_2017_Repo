{
 "cells": [
  {
   "cell_type": "markdown",
   "metadata": {},
   "source": [
    "# Import basic packages (e.g., numpy and pandas)"
   ]
  },
  {
   "cell_type": "code",
   "execution_count": 257,
   "metadata": {
    "collapsed": true
   },
   "outputs": [],
   "source": [
    "import numpy as np\n",
    "import pandas as pd"
   ]
  },
  {
   "cell_type": "markdown",
   "metadata": {},
   "source": [
    "# Read in and prepare the data set "
   ]
  },
  {
   "cell_type": "code",
   "execution_count": 258,
   "metadata": {
    "collapsed": true
   },
   "outputs": [],
   "source": [
    "# read in the check-in file\n",
    "data = pd.read_csv(\"/Users/KVTran/Documents/Research/WPI/Slip_Buddy/REU_2017/data/questions.csv\")\n",
    "# show the columns' names\n",
    "list(data)\n",
    "# select only a number of informative columns\n",
    "col = ['DAY', 'patientid', 'Gender', 'Age', 'Marital Status', 'Education (Numeric)', \n",
    "       'Hispanic', 'Caucasian', 'Black', 'Asian', 'NHPI', 'Native American', 'Multi', 'Others',\n",
    "       'Household', 'Income', \n",
    "       'AM Stress', 'AM Hunger', 'AM Sleep', 'AM Sleep hours',\n",
    "       'AM Weight', 'Percent Weight change (from prev week)', 'Percent Weight change (from prev day)',\n",
    "       'PM Stress', \n",
    "       'EVE Stress',\n",
    "       'Number of Episodes Previous Day',\n",
    "       'Episode']\n",
    "data = data[col]"
   ]
  },
  {
   "cell_type": "markdown",
   "metadata": {},
   "source": [
    "# Convert data to numerical"
   ]
  },
  {
   "cell_type": "code",
   "execution_count": 259,
   "metadata": {
    "collapsed": true
   },
   "outputs": [],
   "source": [
    "# Convert the categorical variables into numerical one\n",
    "# Use the fit_transform() method from sklean.preprocessing.LableEncoder()\n",
    "# Notice that for binary data (Hispanc, Episode) the answer is Yes/No. Hence, we subtract 1 \n",
    "from sklearn import preprocessing\n",
    "le = preprocessing.LabelEncoder()\n",
    "def toNumeric(data, nominalVariables):\n",
    "    \"\"\"\n",
    "    This function takes in a list of categorical variables' names (columns' names) \n",
    "    It convert those values into numeric, and assign it directly to data dataframe\n",
    "    Return nothing\n",
    "    \"\"\"\n",
    "    for i in nominalVariables:\n",
    "        numericalVals = le.fit_transform(data[i])\n",
    "        if (i == \"Hispanic\" or i == \"Episode\"):\n",
    "            numericalVals -= 1\n",
    "        data[i] = numericalVals\n",
    "        \n",
    "nominalVariables = [\"Gender\", \"Marital Status\",\"Hispanic\", \"Episode\"]\n",
    "toNumeric(data, nominalVariables)"
   ]
  },
  {
   "cell_type": "markdown",
   "metadata": {},
   "source": [
    "# Find out which columns contain NaN"
   ]
  },
  {
   "cell_type": "code",
   "execution_count": 260,
   "metadata": {
    "collapsed": true,
    "scrolled": true
   },
   "outputs": [],
   "source": [
    "# Check for NaN values in every columns\n",
    "def checkNaN(data, col):  \n",
    "    \"\"\"\n",
    "    This function accesses column to column and checks if there is any NaN\n",
    "    If yes, print out the column\n",
    "    \"\"\"\n",
    "    nullCount = 0\n",
    "    colWithNaN = []\n",
    "    for i in col:\n",
    "        if data[i].isnull().any():\n",
    "            colWithNaN.append(i)\n",
    "            #print(\"NaN found in \" + i)\n",
    "            nullCount += 1\n",
    "    if nullCount == 0:\n",
    "        print(\"no null values found\")\n",
    "    else:\n",
    "        return colWithNaN\n",
    "    \n",
    "    \n",
    "colWithNaN = checkNaN(data, col)\n",
    "# colWithNaN"
   ]
  },
  {
   "cell_type": "markdown",
   "metadata": {},
   "source": [
    "# Replace NaN with appropriate values"
   ]
  },
  {
   "cell_type": "code",
   "execution_count": 261,
   "metadata": {
    "collapsed": true
   },
   "outputs": [],
   "source": [
    "# We remove the very last row that was added in when the data being converted to numerical\n",
    "data = data.drop(data.index[-1])\n",
    "\n",
    "#\n",
    "def replaceNaN(data, col):\n",
    "    \"\"\"\n",
    "    Form a data block of rows as each patientid and each of the columns that contain NaN\n",
    "    Compute the mean value of that data block\n",
    "    replace the NaN value with that mean\n",
    "    Return nothing\n",
    "    \"\"\"\n",
    "    colWithNaN = checkNaN(data, col)\n",
    "    patientID = list(set(data.patientid))\n",
    "    patientIDIndex = 0\n",
    "    for i in patientID:\n",
    "        for j in colWithNaN:\n",
    "            dataBlock = data[data.patientid == i][j]\n",
    "            meanVal = np.mean(dataBlock)\n",
    "            if j != 'Percent Weight change (from prev week)' and j != 'Percent Weight change (from prev day)':\n",
    "                meanVal = round(meanVal)\n",
    "            # replaceVal is a where() object of numpy.\n",
    "            # check where the datablock contains NaN, replace that spot with meanVal.\n",
    "            replaceVal = np.where(dataBlock.isnull(),\n",
    "                                 meanVal,\n",
    "                                 dataBlock)\n",
    "            # Notice: using .loc[,] to assign value to the df itself instead of to a copy\n",
    "            data.loc[data[\"patientid\"] == i, j] = replaceVal\n",
    "\n",
    "replaceNaN(data, col)"
   ]
  },
  {
   "cell_type": "markdown",
   "metadata": {},
   "source": [
    "# Export the final data set"
   ]
  },
  {
   "cell_type": "code",
   "execution_count": 296,
   "metadata": {
    "collapsed": true
   },
   "outputs": [],
   "source": [
    "data.to_csv(\"/Users/KVTran/Documents/Research/WPI/Slip_Buddy/REU_2017/data/questions_cleaned.csv\", index = False)"
   ]
  },
  {
   "cell_type": "code",
   "execution_count": 297,
   "metadata": {},
   "outputs": [
    {
     "data": {
      "text/plain": [
       "(1151, 27)"
      ]
     },
     "execution_count": 297,
     "metadata": {},
     "output_type": "execute_result"
    }
   ],
   "source": [
    "data.shape"
   ]
  },
  {
   "cell_type": "code",
   "execution_count": null,
   "metadata": {
    "collapsed": true
   },
   "outputs": [],
   "source": []
  }
 ],
 "metadata": {
  "kernelspec": {
   "display_name": "Python 2",
   "language": "python",
   "name": "python2"
  },
  "language_info": {
   "codemirror_mode": {
    "name": "ipython",
    "version": 2
   },
   "file_extension": ".py",
   "mimetype": "text/x-python",
   "name": "python",
   "nbconvert_exporter": "python",
   "pygments_lexer": "ipython2",
   "version": "2.7.13"
  }
 },
 "nbformat": 4,
 "nbformat_minor": 2
}
