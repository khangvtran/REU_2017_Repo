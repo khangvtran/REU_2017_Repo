{
 "cells": [
  {
   "cell_type": "markdown",
   "metadata": {},
   "source": [
    "# Import libraries"
   ]
  },
  {
   "cell_type": "code",
   "execution_count": 106,
   "metadata": {
    "collapsed": true
   },
   "outputs": [],
   "source": [
    "import numpy as np\n",
    "import pandas as pd\n",
    "from sklearn.cross_validation import train_test_split\n",
    "from sklearn.tree import DecisionTreeClassifier\n",
    "from sklearn import tree\n",
    "from sklearn.cross_validation import cross_val_score\n",
    "import time"
   ]
  },
  {
   "cell_type": "markdown",
   "metadata": {},
   "source": [
    "# Read-in the data"
   ]
  },
  {
   "cell_type": "code",
   "execution_count": 109,
   "metadata": {},
   "outputs": [],
   "source": [
    "Real_Dir = \"/Users/KVTran/Documents/Research/WPI/Slip_Buddy/REU_2017/data/Individual_Patient/\"\n",
    "Synth_Dir = \"/Users/KVTran/Documents/Research/WPI/Slip_Buddy/REU_2017/data/synth/\"\n",
    "File_Name = \"patientID_10.csv\"\n",
    "\n",
    "obs = pd.read_csv(Real_Dir+File_Name, index_col=None)\n",
    "syn = pd.read_csv(Real_Dir+File_Name, index_col=None)\n",
    "\n",
    "predictorVars = ['AM Stress','AM Hunger', 'AM Sleep', 'AM Sleep hours', \n",
    "                 'AM Weight',\n",
    "                 'Percent Weight change (from prev week)',\n",
    "                 'Percent Weight change (from prev day)', 'PM Stress', 'EVE Stress',\n",
    "                 'Number of Episodes Previous Day']\n",
    "targetVar = 'Episode'\n",
    "data = obs\n",
    "predictors = data[predictorVars]\n",
    "targets = data[targetVar]\n",
    "\n"
   ]
  },
  {
   "cell_type": "markdown",
   "metadata": {},
   "source": [
    "# Determine the optimal depth"
   ]
  },
  {
   "cell_type": "code",
   "execution_count": 111,
   "metadata": {},
   "outputs": [
    {
     "name": "stdout",
     "output_type": "stream",
     "text": [
      "[(3, 0.65892857142857142), (4, 0.71190476190476193), (5, 0.71785714285714275), (6, 0.72440476190476188), (7, 0.71607142857142869), (8, 0.71607142857142869), (9, 0.63928571428571435), (10, 0.69999999999999996), (11, 0.70595238095238089), (12, 0.68095238095238098), (13, 0.71666666666666656), (14, 0.67500000000000004), (15, 0.70416666666666661), (16, 0.68749999999999989), (17, 0.70119047619047614), (18, 0.68511904761904752), (19, 0.69940476190476208)]\n",
      "6\n",
      "--- 0.538388967514 seconds ---\n"
     ]
    }
   ],
   "source": [
    "\n",
    "start_time = time.time()\n",
    "def Get_Optimal_Depth(data):\n",
    "    \"\"\"\n",
    "    This function takes in the dataset\n",
    "    It computes the score for cross validation witch each value of depth\n",
    "    Return the score of the tree, the higher the better\n",
    "    \"\"\"\n",
    "    predictors = data[predictorVars]\n",
    "    targets = data[targetVar]\n",
    "    pred_train, pred_test, tar_train, tar_test = train_test_split(predictors, targets, test_size = 0.1, random_state = 0)\n",
    "    depth = []\n",
    "    maxScore = 0\n",
    "    for i in range(3,20):\n",
    "        classifier = DecisionTreeClassifier(max_depth = i)\n",
    "        score = cross_val_score(estimator = classifier, X = predictors, y = targets, cv = 10, n_jobs = 1)\n",
    "        if (score.mean() > maxScore):\n",
    "            maxScore = score.mean()\n",
    "            optimalDepth = i\n",
    "        depth.append((i,score.mean()))\n",
    "    print(depth)\n",
    "    return(optimalDepth)\n",
    "\n",
    "optimalDepth = Get_Optimal_Depth(obs)\n",
    "print(optimalDepth)\n",
    "print(\"--- %s seconds ---\" % (time.time() - start_time))\n"
   ]
  },
  {
   "cell_type": "code",
   "execution_count": 95,
   "metadata": {
    "collapsed": true
   },
   "outputs": [],
   "source": []
  },
  {
   "cell_type": "code",
   "execution_count": null,
   "metadata": {
    "collapsed": true
   },
   "outputs": [],
   "source": []
  }
 ],
 "metadata": {
  "kernelspec": {
   "display_name": "Python 2",
   "language": "python",
   "name": "python2"
  },
  "language_info": {
   "codemirror_mode": {
    "name": "ipython",
    "version": 2
   },
   "file_extension": ".py",
   "mimetype": "text/x-python",
   "name": "python",
   "nbconvert_exporter": "python",
   "pygments_lexer": "ipython2",
   "version": "2.7.13"
  }
 },
 "nbformat": 4,
 "nbformat_minor": 2
}
