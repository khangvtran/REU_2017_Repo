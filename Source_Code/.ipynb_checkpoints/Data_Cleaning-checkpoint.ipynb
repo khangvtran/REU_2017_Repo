{
 "cells": [
  {
   "cell_type": "markdown",
   "metadata": {},
   "source": [
    "# Import basic packages (e.g., numpy and pandas)"
   ]
  },
  {
   "cell_type": "code",
   "execution_count": 422,
   "metadata": {
    "collapsed": true
   },
   "outputs": [],
   "source": [
    "import numpy as np\n",
    "import pandas as pd\n",
    "import datetime"
   ]
  },
  {
   "cell_type": "markdown",
   "metadata": {},
   "source": [
    "# Read in and prepare the data set "
   ]
  },
  {
   "cell_type": "code",
   "execution_count": 423,
   "metadata": {
    "collapsed": true
   },
   "outputs": [],
   "source": [
    "# read in the check-in file\n",
    "data = pd.read_csv(\"/Users/KVTran/Documents/Research/WPI/Slip_Buddy/REU_2017/data/questions.csv\")\n",
    "# show the columns' names\n",
    "list(data)\n",
    "# select only a number of informative columns\n",
    "col = ['DAY', 'patientid', 'date', 'Gender', 'Age', 'Marital Status', 'Education (Numeric)', \n",
    "       'Hispanic', 'Caucasian', 'Black', 'Asian', 'NHPI', 'Native American', 'Multi', 'Others',\n",
    "       'Household', 'Income', \n",
    "       'AM Stress', 'AM Hunger', 'AM Sleep', 'AM Sleep hours',\n",
    "       'AM Weight', 'Percent Weight change (from prev week)', 'Percent Weight change (from prev day)',\n",
    "       'PM Stress','EVE Stress',\n",
    "       'Number of Episodes Previous Day',\n",
    "       'Episode']\n",
    "data = data[col]\n",
    "#data[0:10]"
   ]
  },
  {
   "cell_type": "markdown",
   "metadata": {},
   "source": [
    "# Convert data to numerical"
   ]
  },
  {
   "cell_type": "code",
   "execution_count": 424,
   "metadata": {
    "collapsed": true
   },
   "outputs": [],
   "source": [
    "# Convert the categorical variables into numerical one\n",
    "# Use the fit_transform() method from sklean.preprocessing.LableEncoder()\n",
    "# Gender and Marital Status are catoegorical, not boolean. Hence, we add 1\n",
    "from sklearn import preprocessing\n",
    "le = preprocessing.LabelEncoder()\n",
    "def toNumeric(data, nominalVariables):\n",
    "    \"\"\"\n",
    "    This function takes in a list of categorical variables' names (columns' names) \n",
    "    It convert those values into numeric, and assign it directly to data dataframe\n",
    "    Return nothing\n",
    "    \"\"\"\n",
    "    for i in nominalVariables:\n",
    "        numericalVals = le.fit_transform(data[i])\n",
    "        if (i == \"Gender\" or i == \"Marital Status\"):\n",
    "            numericalVals += 1\n",
    "        data[i] = numericalVals\n",
    "nominalVariables = [\"Gender\", \"Marital Status\",\"Hispanic\", \"Episode\"]\n",
    "toNumeric(data, nominalVariables)\n",
    "\n",
    "# We remove the very last row that was added in when the data being converted to numerical\n",
    "data = data.drop(data.index[-1])\n",
    "#data[0:10]\n"
   ]
  },
  {
   "cell_type": "markdown",
   "metadata": {},
   "source": [
    "# Find out which columns contain NaN"
   ]
  },
  {
   "cell_type": "code",
   "execution_count": 425,
   "metadata": {
    "scrolled": true
   },
   "outputs": [],
   "source": [
    "# Check for NaN values in every columns\n",
    "def checkNaN(data, col):  \n",
    "    \"\"\"\n",
    "    This function accesses column to column and checks if there is any NaN\n",
    "    If yes, print out the column\n",
    "    \"\"\"\n",
    "    nullCount = 0\n",
    "    colWithNaN = []\n",
    "    for i in col:\n",
    "        if data[i].isnull().any():\n",
    "            colWithNaN.append(i)\n",
    "            nullCount += 1\n",
    "    if nullCount == 0:\n",
    "        print(\"no null values found\")\n",
    "    else:\n",
    "        return colWithNaN    \n",
    "colWithNaN = checkNaN(data, col)\n",
    "#colWithNaN"
   ]
  },
  {
   "cell_type": "markdown",
   "metadata": {},
   "source": [
    "# Adjust the Episode variable based on number of episode the day before"
   ]
  },
  {
   "cell_type": "code",
   "execution_count": 426,
   "metadata": {},
   "outputs": [],
   "source": [
    "# The conflict between date format of Excel and Python was troublesome\n",
    "# Issue solved by setting custom Excel format for date\n",
    "# Choose the column -> format cell -> date -> choose m/d/yyyy -> choose custom -> mm/dd/yyy\n",
    "def isConsecDate(date1, date2):\n",
    "    \"\"\"\n",
    "    This function check on date1 and date2. Both are str() type\n",
    "    If they are consecutive, return True\n",
    "    \"\"\"\n",
    "    d = datetime.datetime.strptime(date1, '%m/%d/%Y') + datetime.timedelta(days=1)\n",
    "    d = d.strftime('%m/%d/%Y')\n",
    "    if (date2 == d):\n",
    "        return True\n",
    "    else:\n",
    "        return False\n",
    "    \n",
    "def adjustEpisode(data):\n",
    "    numRow = data.shape[0]\n",
    "    for i in range(1, numRow):\n",
    "        currentDate = data.date[i]\n",
    "        prevDate = data.date[i-1]\n",
    "        if isConsecDate(prevDate, currentDate):\n",
    "            numEpPrevDay = data[\"Number of Episodes Previous Day\"][i]\n",
    "            if numEpPrevDay == 0:\n",
    "                data.Episode.loc[i-1] = 0\n",
    "            else:\n",
    "                data.Episode.loc[i-1] = 1\n",
    "\n",
    "adjustEpisode(data)\n",
    "                \n"
   ]
  },
  {
   "cell_type": "markdown",
   "metadata": {},
   "source": [
    "# Replace NaN with appropriate values"
   ]
  },
  {
   "cell_type": "code",
   "execution_count": 427,
   "metadata": {
    "collapsed": true
   },
   "outputs": [],
   "source": [
    "#\n",
    "def replaceNaN(data, col):\n",
    "    \"\"\"\n",
    "    Form a data block of rows as each patientid and each of the columns that contain NaN\n",
    "    Compute the mean value of that data block\n",
    "    replace the NaN value with that mean\n",
    "    Return nothing\n",
    "    \"\"\"\n",
    "    colWithNaN = checkNaN(data, col)\n",
    "    patientID = list(set(data.patientid))\n",
    "    for i in patientID:\n",
    "        for j in colWithNaN:\n",
    "            dataBlock = data[data.patientid == i][j]\n",
    "            meanVal = np.mean(dataBlock)\n",
    "            # replaceVal is a where() object of numpy.\n",
    "            # check where the datablock contains NaN, replace that spot with meanVal.\n",
    "            replaceVal = np.where(dataBlock.isnull(),\n",
    "                                 -1,\n",
    "                                 dataBlock)\n",
    "            # Notice: using .loc[,] to assign value to the df itself instead of to a copy\n",
    "            data.loc[data[\"patientid\"] == i, j] = replaceVal\n",
    "\n",
    "replaceNaN(data, col)"
   ]
  },
  {
   "cell_type": "markdown",
   "metadata": {},
   "source": [
    "# Export the final data set"
   ]
  },
  {
   "cell_type": "code",
   "execution_count": 428,
   "metadata": {
    "collapsed": true
   },
   "outputs": [],
   "source": [
    "data.to_csv(\"/Users/KVTran/Documents/Research/WPI/Slip_Buddy/REU_2017/data/questions_cleaned.csv\", index = False)"
   ]
  }
 ],
 "metadata": {
  "kernelspec": {
   "display_name": "Python 2",
   "language": "python",
   "name": "python2"
  },
  "language_info": {
   "codemirror_mode": {
    "name": "ipython",
    "version": 2
   },
   "file_extension": ".py",
   "mimetype": "text/x-python",
   "name": "python",
   "nbconvert_exporter": "python",
   "pygments_lexer": "ipython2",
   "version": "2.7.13"
  }
 },
 "nbformat": 4,
 "nbformat_minor": 2
}
