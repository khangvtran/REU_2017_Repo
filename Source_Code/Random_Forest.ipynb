{
 "cells": [
  {
   "cell_type": "markdown",
   "metadata": {},
   "source": [
    "# Import necessary libraries"
   ]
  },
  {
   "cell_type": "code",
   "execution_count": 181,
   "metadata": {
    "collapsed": true
   },
   "outputs": [],
   "source": [
    "import numpy as np\n",
    "import pandas as pd\n",
    "from sklearn.cross_validation import train_test_split\n",
    "#from sklearn.ensemble import RandomForestClassifier\n",
    "from sklearn.ensemble import ExtraTreesClassifier"
   ]
  },
  {
   "cell_type": "markdown",
   "metadata": {},
   "source": [
    "# Read in the data"
   ]
  },
  {
   "cell_type": "code",
   "execution_count": 182,
   "metadata": {},
   "outputs": [
    {
     "data": {
      "text/plain": [
       "Index([u'DAY', u'patientid', u'date', u'Gender', u'Age', u'Marital Status',\n",
       "       u'Education (Numeric)', u'Household', u'Income', u'AM Stress',\n",
       "       u'AM Hunger', u'AM Sleep', u'AM Sleep hours', u'AM Weight',\n",
       "       u'Percent Weight change (from prev week)',\n",
       "       u'Percent Weight change (from prev day)', u'PM Stress', u'EVE Stress',\n",
       "       u'Number of Episodes Previous Day', u'Episode'],\n",
       "      dtype='object')"
      ]
     },
     "execution_count": 182,
     "metadata": {},
     "output_type": "execute_result"
    }
   ],
   "source": [
    "data = pd.read_csv(\"/Users/KVTran/Documents/Research/WPI/Slip_Buddy/REU_2017/data/Individual_Patient/patientID_8.csv\", index_col = None)\n",
    "#print(\"Data contains missing values: \", data.isnull().values.any())\n",
    "#print(data.dtypes)\n",
    "#print(data.describe())\n",
    "data.columns"
   ]
  },
  {
   "cell_type": "markdown",
   "metadata": {},
   "source": [
    "# Applying Random Forest and Extra Trees"
   ]
  },
  {
   "cell_type": "code",
   "execution_count": 183,
   "metadata": {},
   "outputs": [
    {
     "data": {
      "text/html": [
       "<div>\n",
       "<style>\n",
       "    .dataframe thead tr:only-child th {\n",
       "        text-align: right;\n",
       "    }\n",
       "\n",
       "    .dataframe thead th {\n",
       "        text-align: left;\n",
       "    }\n",
       "\n",
       "    .dataframe tbody tr th {\n",
       "        vertical-align: top;\n",
       "    }\n",
       "</style>\n",
       "<table border=\"1\" class=\"dataframe\">\n",
       "  <thead>\n",
       "    <tr style=\"text-align: right;\">\n",
       "      <th></th>\n",
       "      <th>AM Stress</th>\n",
       "      <th>AM Hunger</th>\n",
       "      <th>AM Sleep</th>\n",
       "      <th>AM Sleep hours</th>\n",
       "      <th>AM Weight</th>\n",
       "      <th>Percent Weight change (from prev week)</th>\n",
       "      <th>Percent Weight change (from prev day)</th>\n",
       "      <th>PM Stress</th>\n",
       "      <th>EVE Stress</th>\n",
       "      <th>Number of Episodes Previous Day</th>\n",
       "    </tr>\n",
       "  </thead>\n",
       "  <tbody>\n",
       "    <tr>\n",
       "      <th>0</th>\n",
       "      <td>0.080851</td>\n",
       "      <td>0.041552</td>\n",
       "      <td>0.121147</td>\n",
       "      <td>0.101532</td>\n",
       "      <td>0.117796</td>\n",
       "      <td>0.121799</td>\n",
       "      <td>0.115561</td>\n",
       "      <td>0.08826</td>\n",
       "      <td>0.126469</td>\n",
       "      <td>0.085033</td>\n",
       "    </tr>\n",
       "  </tbody>\n",
       "</table>\n",
       "</div>"
      ],
      "text/plain": [
       "   AM Stress  AM Hunger  AM Sleep  AM Sleep hours  AM Weight  \\\n",
       "0   0.080851   0.041552  0.121147        0.101532   0.117796   \n",
       "\n",
       "   Percent Weight change (from prev week)  \\\n",
       "0                                0.121799   \n",
       "\n",
       "   Percent Weight change (from prev day)  PM Stress  EVE Stress  \\\n",
       "0                               0.115561    0.08826    0.126469   \n",
       "\n",
       "   Number of Episodes Previous Day  \n",
       "0                         0.085033  "
      ]
     },
     "execution_count": 183,
     "metadata": {},
     "output_type": "execute_result"
    }
   ],
   "source": [
    "readPath = \"/Users/KVTran/Documents/Research/WPI/Slip_Buddy/REU_2017/data/Individual_Patient/patientID_8.csv\"\n",
    "predictorVars = ['AM Stress','AM Hunger', 'AM Sleep', 'AM Sleep hours', \n",
    "                 'AM Weight',\n",
    "                 'Percent Weight change (from prev week)',\n",
    "                 'Percent Weight change (from prev day)', 'PM Stress', 'EVE Stress',\n",
    "                 'Number of Episodes Previous Day']\n",
    "targetVar = 'Episode'\n",
    "testSize = 0.1\n",
    "n = 2000\n",
    "savePath = \"/Users/KVTran/Documents/Research/WPI/Slip_Buddy/REU_2017/data/Predict/Features_Importance.csv\"\n",
    "#predTrain, predTest, tarTrain, tarTest = train_test_split(predictors, targets, test_size = testSize)\n",
    "\n",
    "\n",
    "    \n",
    "def Get_Features_Importance(readPath, predictorVars, targetVar, testSize, n, savePath):\n",
    "    data = pd.read_csv(readPath, index_col = None)\n",
    "    predictors = data[predictorVars]\n",
    "    targets = data[targetVar]\n",
    "    Features_Importance = np.zeros((1, len(predictorVars)))\n",
    "    Features_Importance = pd.DataFrame(Features_Importance, columns=predictorVars)\n",
    "    model = ExtraTreesClassifier()\n",
    "    for i in range(n):\n",
    "        model.fit(predictors, targets)\n",
    "        buf = model.feature_importances_\n",
    "        Features_Importance += buf\n",
    "    Features_Importance = Features_Importance/n \n",
    "    Features_Importance.to_csv(savePath,index = False)\n",
    "    return(Features_Importance)\n",
    "    \n",
    "Get_Features_Importance(readPath, predictorVars, targetVar, testSize, n, savePath)"
   ]
  },
  {
   "cell_type": "code",
   "execution_count": null,
   "metadata": {
    "collapsed": true
   },
   "outputs": [],
   "source": []
  }
 ],
 "metadata": {
  "kernelspec": {
   "display_name": "Python 2",
   "language": "python",
   "name": "python2"
  },
  "language_info": {
   "codemirror_mode": {
    "name": "ipython",
    "version": 2
   },
   "file_extension": ".py",
   "mimetype": "text/x-python",
   "name": "python",
   "nbconvert_exporter": "python",
   "pygments_lexer": "ipython2",
   "version": "2.7.13"
  }
 },
 "nbformat": 4,
 "nbformat_minor": 2
}
